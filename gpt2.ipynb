{
 "cells": [
  {
   "cell_type": "code",
   "execution_count": 1,
   "metadata": {},
   "outputs": [],
   "source": [
    "import torch\n",
    "import torch.nn.functional as F\n"
   ]
  },
  {
   "cell_type": "markdown",
   "metadata": {},
   "source": [
    "Rotary positional encoding\n",
    "goglu"
   ]
  },
  {
   "cell_type": "code",
   "execution_count": 2,
   "metadata": {},
   "outputs": [],
   "source": [
    "def apply_rope(x, seq_dim, dim_head):\n",
    "    pos = torch.arange(x.shape[seq_dim], dtype=torch.float32, device=x.device)\n",
    "    inv_freq = 1.0/(10000**(torch.arange(0, dim_head, 2, device=x.device).float() /dim_head))\n",
    "    sinusoid_inp = torch.einsum('i,j->ij', pos, inv_freq)\n",
    "    pos_emb = torch.cat((sinusoid_inp.sin(), sinusoid_inp.cos()), dim=-1)\n",
    "    return (x*pos_emb) + (x.roll(shift=1, dims=-1)*pos_emb.roll(shift=1, dims=-1))"
   ]
  },
  {
   "cell_type": "code",
   "execution_count": 3,
   "metadata": {},
   "outputs": [],
   "source": [
    "class GoGLU(torch.nn.Module):\n",
    "    def __init__(self, input_dim, hidden_dim):\n",
    "        super().__init__()\n",
    "        self.proj1 = torch.nn.Linear(input_dim, hidden_dim)\n",
    "        self.proj2 = torch.nn.Linear(input_dim, hidden_dim)\n",
    "\n",
    "    def forward(self, x):\n",
    "        gate = F.gelu(self.proj1(x))\n",
    "        return self.proj2(x) * gate"
   ]
  },
  {
   "cell_type": "code",
   "execution_count": 4,
   "metadata": {},
   "outputs": [],
   "source": [
    "class GroupHeadedAttention(torch.nn.Module):\n",
    "    def __init__(self, embed_dim, num_heads, group_size):\n",
    "        super(GroupHeadedAttention, self).__init__()\n",
    "        self.num_heads = num_heads\n",
    "        self.group_size = group_size\n",
    "        self.head_dim = embed_dim // num_heads\n",
    "\n",
    "        self.qkv_proj = torch.nn.Linear(embed_dim, 3*embed_dim)\n",
    "        self.out_proj = torch.nn.Linear(embed_dim, embed_dim)\n",
    "\n",
    "    def forward(self, x):\n",
    "        batch_size, seq_len, embed_dim = x.size()\n",
    "\n",
    "        qkv = self.qkv_proj(x).reshape(batch_size, seq_len, self.num_heads, 3*self.head_dim)\n",
    "        \n",
    "        q, k, v = qkv.chunk(3, dim=-1)\n",
    "        q = apply_rope(q, seq_len, self.head_dim)\n",
    "        k = apply_rope(k, seq_len, self.head_dim)\n",
    "\n",
    "        groups = self.num_heads // self.group_size\n",
    "        attn_scores = torch.einsum('bnhd,bmhd->bhnm', q, k)\n",
    "        attn_scores = attn_scores.view(batch_size, groups, self.group_size, seq_len, seq_len)\n",
    "        attn_probs = F.softmax(attn_scores, dim=-1)\n",
    "\n",
    "        #Weighted sum of values\n",
    "        attn_output = torch.einsum('bgnm,bmhd->bgnhd', attn_probs, v)\n",
    "        attn_output = attn_output.reshape(batch_size, seq_len, embed_dim)\n",
    "\n",
    "        return self.out_proj(attn_output)"
   ]
  },
  {
   "cell_type": "code",
   "execution_count": null,
   "metadata": {},
   "outputs": [],
   "source": [
    "class TransformerBlock(torch.nn.Module):\n",
    "    def __init__(self, embed_dim, num_heads. group_size, ff_dim):\n",
    "        super(TransformerBlock, self).__init__()\n",
    "        self.attention = GroupHeadedAttention(embed_dim, num_heads, group_size)\n",
    "        self.norm1 = torch.nn.LayerNorm(embed_dim)\n",
    "        self.ff = GoGLU(embed_dim, ff_dim)\n",
    "        self.norm2 = torch.nn.LayerNorm(embed_dim)\n",
    "\n",
    "        def forward(self, x):\n",
    "            attn_out = self.attention(x)\n",
    "            x = self.norm1(x + attn_out)\n",
    "            ff_out = self.ff(x) \n",
    "            x = self.norm2(x + ff_out)\n",
    "\n",
    "            return x"
   ]
  },
  {
   "cell_type": "code",
   "execution_count": null,
   "metadata": {},
   "outputs": [],
   "source": [
    "class GPTModel(torch.nn.Module):\n",
    "    def __init__(self, vocab_size, embed_dim, num_layers, num_heads, group_size, ff_dim):\n",
    "        super(GPTModel, self).__init__()\n",
    "        self.embed = torch.nn.Embedding(vocab_size, embed_dim)\n",
    "        self.layers = torch.nn.ModuleList([\n",
    "            TransformerBlock(embed_dim, num_heads, group_size, ff_dim) for _ in range(num_layers)\n",
    "        ])\n",
    "        self.lm_head = torch.nn.Linear(embed_dim, vocab_size)\n",
    "    \n",
    "    def forward(self, x):\n",
    "        x = self.embed(x)\n",
    "        for layer in self.layers:\n",
    "            x = layer(x)\n",
    "        return self.lm_head(x)"
   ]
  },
  {
   "cell_type": "code",
   "execution_count": 2,
   "metadata": {},
   "outputs": [
    {
     "ename": "ModuleNotFoundError",
     "evalue": "No module named 'transformers'",
     "output_type": "error",
     "traceback": [
      "\u001b[0;31m---------------------------------------------------------------------------\u001b[0m",
      "\u001b[0;31mModuleNotFoundError\u001b[0m                       Traceback (most recent call last)",
      "Cell \u001b[0;32mIn[2], line 1\u001b[0m\n\u001b[0;32m----> 1\u001b[0m \u001b[38;5;28;01mfrom\u001b[39;00m \u001b[38;5;21;01mtransformers\u001b[39;00m \u001b[38;5;28;01mimport\u001b[39;00m AutoTokenizer\n\u001b[1;32m      3\u001b[0m tokenizer \u001b[38;5;241m=\u001b[39m AutoTokenizer\u001b[38;5;241m.\u001b[39mfrom_pretrained(\u001b[38;5;124m'\u001b[39m\u001b[38;5;124mgpt2\u001b[39m\u001b[38;5;124m'\u001b[39m)\n",
      "\u001b[0;31mModuleNotFoundError\u001b[0m: No module named 'transformers'"
     ]
    }
   ],
   "source": [
    "from transformers import AutoTokenizer\n",
    "\n",
    "tokenizer = AutoTokenizer.from_pretrained('gpt2')"
   ]
  }
 ],
 "metadata": {
  "kernelspec": {
   "display_name": "Python 3",
   "language": "python",
   "name": "python3"
  },
  "language_info": {
   "codemirror_mode": {
    "name": "ipython",
    "version": 3
   },
   "file_extension": ".py",
   "mimetype": "text/x-python",
   "name": "python",
   "nbconvert_exporter": "python",
   "pygments_lexer": "ipython3",
   "version": "3.12.7"
  }
 },
 "nbformat": 4,
 "nbformat_minor": 2
}
